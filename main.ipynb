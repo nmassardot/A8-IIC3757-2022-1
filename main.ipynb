{
 "cells": [
  {
   "cell_type": "code",
   "execution_count": null,
   "metadata": {},
   "outputs": [],
   "source": [
    "!pip3 install pm4py pandas"
   ]
  },
  {
   "cell_type": "code",
   "execution_count": 7,
   "metadata": {},
   "outputs": [
    {
     "data": {
      "text/html": [
       "<div>\n",
       "<style scoped>\n",
       "    .dataframe tbody tr th:only-of-type {\n",
       "        vertical-align: middle;\n",
       "    }\n",
       "\n",
       "    .dataframe tbody tr th {\n",
       "        vertical-align: top;\n",
       "    }\n",
       "\n",
       "    .dataframe thead th {\n",
       "        text-align: right;\n",
       "    }\n",
       "</style>\n",
       "<table border=\"1\" class=\"dataframe\">\n",
       "  <thead>\n",
       "    <tr style=\"text-align: right;\">\n",
       "      <th></th>\n",
       "      <th>ID caso</th>\n",
       "      <th>Nombre Actividad</th>\n",
       "      <th>Fin</th>\n",
       "      <th>Ejecutor</th>\n",
       "    </tr>\n",
       "  </thead>\n",
       "  <tbody>\n",
       "    <tr>\n",
       "      <th>0</th>\n",
       "      <td>1</td>\n",
       "      <td>Alarma domiciliaria</td>\n",
       "      <td>01-06-2021 07:19:56</td>\n",
       "      <td>Sistema</td>\n",
       "    </tr>\n",
       "    <tr>\n",
       "      <th>1</th>\n",
       "      <td>1</td>\n",
       "      <td>Revisar cámaras</td>\n",
       "      <td>01-06-2021 07:23:46</td>\n",
       "      <td>Bastian</td>\n",
       "    </tr>\n",
       "    <tr>\n",
       "      <th>2</th>\n",
       "      <td>1</td>\n",
       "      <td>Te atrapé</td>\n",
       "      <td>01-06-2021 07:23:46</td>\n",
       "      <td>Bastian</td>\n",
       "    </tr>\n",
       "    <tr>\n",
       "      <th>3</th>\n",
       "      <td>1</td>\n",
       "      <td>Señal persona casa</td>\n",
       "      <td>01-06-2021 07:25:29</td>\n",
       "      <td>Bastian</td>\n",
       "    </tr>\n",
       "    <tr>\n",
       "      <th>4</th>\n",
       "      <td>2</td>\n",
       "      <td>Alarma domiciliaria</td>\n",
       "      <td>01-06-2021 07:53:58</td>\n",
       "      <td>Sistema</td>\n",
       "    </tr>\n",
       "  </tbody>\n",
       "</table>\n",
       "</div>"
      ],
      "text/plain": [
       "   ID caso     Nombre Actividad                  Fin Ejecutor\n",
       "0        1  Alarma domiciliaria  01-06-2021 07:19:56  Sistema\n",
       "1        1      Revisar cámaras  01-06-2021 07:23:46  Bastian\n",
       "2        1            Te atrapé  01-06-2021 07:23:46  Bastian\n",
       "3        1   Señal persona casa  01-06-2021 07:25:29  Bastian\n",
       "4        2  Alarma domiciliaria  01-06-2021 07:53:58  Sistema"
      ]
     },
     "execution_count": 7,
     "metadata": {},
     "output_type": "execute_result"
    }
   ],
   "source": [
    "# Import CSV files and drop Inicio column\n",
    "# Will be using Fin as timestamp\n",
    "import pandas as pd\n",
    "\n",
    "df_csv = pd.read_csv(\n",
    "  \"./files/log_gestionar_alarma_1.csv\", sep=\";\", encoding=\"latin-1\",\n",
    ").drop(columns=[\"Inicio\"])\n",
    "df_csv.head()"
   ]
  },
  {
   "cell_type": "markdown",
   "metadata": {},
   "source": [
    "### Convert the received csv to a `event log` object"
   ]
  },
  {
   "cell_type": "code",
   "execution_count": null,
   "metadata": {},
   "outputs": [],
   "source": [
    "import pm4py\n",
    "from pm4py.objects.conversion.log import converter as log_converter\n",
    "\n",
    "df_log_titles = pm4py.format_dataframe(df_csv, case_id=\"ID caso\", activity_key=\"Nombre Actividad\", timestamp_key=\"Fin\")\n",
    "events_log = log_converter.apply(df_log_titles, variant=log_converter.Variants.TO_EVENT_LOG)\n",
    "events_log"
   ]
  },
  {
   "cell_type": "markdown",
   "metadata": {},
   "source": [
    "# Exploratory Analysis"
   ]
  },
  {
   "cell_type": "markdown",
   "metadata": {},
   "source": [
    "### Get the number of cases"
   ]
  },
  {
   "cell_type": "code",
   "execution_count": null,
   "metadata": {},
   "outputs": [],
   "source": [
    "len(events_log)"
   ]
  },
  {
   "cell_type": "markdown",
   "metadata": {},
   "source": [
    "### Get Event logs as Data frames"
   ]
  },
  {
   "cell_type": "code",
   "execution_count": null,
   "metadata": {},
   "outputs": [],
   "source": [
    "df_events_log = log_converter.apply(\n",
    "    events_log,\n",
    "    variant=log_converter.Variants.TO_DATA_FRAME\n",
    ")\n",
    "df_events_log"
   ]
  },
  {
   "cell_type": "markdown",
   "metadata": {},
   "source": [
    "### Frequency of activities"
   ]
  },
  {
   "cell_type": "code",
   "execution_count": null,
   "metadata": {},
   "outputs": [],
   "source": [
    "df_events_log[\"Nombre Actividad\"].value_counts()"
   ]
  },
  {
   "cell_type": "markdown",
   "metadata": {},
   "source": [
    "### Starting and Ending activities"
   ]
  },
  {
   "cell_type": "code",
   "execution_count": null,
   "metadata": {},
   "outputs": [],
   "source": [
    "from pm4py.algo.filtering.log.start_activities import start_activities_filter\n",
    "from pm4py.algo.filtering.log.end_activities import end_activities_filter\n",
    "\n",
    "start_activities = start_activities_filter.get_start_activities(events_log)\n",
    "print(\"Starting Activities:\")\n",
    "print(start_activities)\n",
    "\n",
    "end_activities = end_activities_filter.get_end_activities(events_log)\n",
    "print(\"Ending Activities:\")\n",
    "print(end_activities)"
   ]
  },
  {
   "cell_type": "markdown",
   "metadata": {},
   "source": [
    "### Existing variants"
   ]
  },
  {
   "cell_type": "code",
   "execution_count": null,
   "metadata": {},
   "outputs": [],
   "source": [
    "from pm4py.algo.filtering.log.variants import variants_filter\n",
    "\n",
    "variants = variants_filter.get_variants(events_log)\n",
    "len(variants)"
   ]
  },
  {
   "cell_type": "markdown",
   "metadata": {},
   "source": [
    "### Executor frequency"
   ]
  },
  {
   "cell_type": "code",
   "execution_count": null,
   "metadata": {},
   "outputs": [],
   "source": [
    "df_events_log[\"Ejecutor\"].value_counts()"
   ]
  },
  {
   "cell_type": "markdown",
   "metadata": {},
   "source": [
    "### Median/Mean of the duration of the process"
   ]
  },
  {
   "cell_type": "code",
   "execution_count": null,
   "metadata": {},
   "outputs": [],
   "source": [
    "from pm4py.statistics.traces.generic.log import case_statistics\n",
    "\n",
    "all_case_durations = case_statistics.get_all_case_durations(\n",
    "    events_log,\n",
    "    parameters={\n",
    "        case_statistics.Parameters.TIMESTAMP_KEY: \"time:timestamp\"\n",
    "    },\n",
    ")\n",
    "\n",
    "import numpy as np\n",
    "\n",
    "print(f\"Median: {np.median(all_case_durations)}\")\n",
    "print(f\"Mean: {np.mean(all_case_durations)}\")\n",
    "print(f\"Standard Deviation: {np.std(all_case_durations)}\")"
   ]
  },
  {
   "cell_type": "markdown",
   "metadata": {},
   "source": [
    "# Process Discovery"
   ]
  },
  {
   "cell_type": "markdown",
   "metadata": {},
   "source": [
    "### All the posible behaviour"
   ]
  },
  {
   "cell_type": "code",
   "execution_count": null,
   "metadata": {},
   "outputs": [],
   "source": [
    "petri_net, initial_marking, final_marking = pm4py.discover_petri_net_alpha(events_log)\n",
    "pm4py.view_petri_net(petri_net, initial_marking, final_marking, format='png')"
   ]
  },
  {
   "cell_type": "code",
   "execution_count": null,
   "metadata": {},
   "outputs": [],
   "source": [
    "pm4py.save_vis_petri_net(petri_net, initial_marking, final_marking, file_path=\"./files/petrinet_alpha_events_log.png\")"
   ]
  }
 ],
 "metadata": {
  "interpreter": {
   "hash": "b0fa6594d8f4cbf19f97940f81e996739fb7646882a419484c72d19e05852a7e"
  },
  "kernelspec": {
   "display_name": "Python 3.9.12 64-bit",
   "language": "python",
   "name": "python3"
  },
  "language_info": {
   "codemirror_mode": {
    "name": "ipython",
    "version": 3
   },
   "file_extension": ".py",
   "mimetype": "text/x-python",
   "name": "python",
   "nbconvert_exporter": "python",
   "pygments_lexer": "ipython3",
   "version": "3.9.12"
  },
  "orig_nbformat": 4
 },
 "nbformat": 4,
 "nbformat_minor": 2
}
